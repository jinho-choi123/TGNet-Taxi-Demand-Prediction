{
 "cells": [
  {
   "cell_type": "markdown",
   "id": "538f413f-bd30-4193-bb7c-6cc756ac155c",
   "metadata": {},
   "source": [
    "# After preprocessing the data, let's plot the data!!"
   ]
  },
  {
   "cell_type": "code",
   "execution_count": 4,
   "id": "d1d451ee-28f3-4d7f-9207-19a064242123",
   "metadata": {},
   "outputs": [
    {
     "name": "stdout",
     "output_type": "stream",
     "text": [
      "DATA_FOLDER = /Users/ball/Documents/workspace/TGNet/data/preprocessed\n"
     ]
    }
   ],
   "source": [
    "# import packages \n",
    "import pandas as pd\n",
    "from datetime import datetime, timedelta\n",
    "import pathlib\n",
    "\n",
    "curr_dir = pathlib.Path().absolute()\n",
    "\n",
    "DATA_FOLDER = curr_dir.parent.joinpath('data/preprocessed/')\n",
    "\n",
    "print(f'DATA_FOLDER = {DATA_FOLDER}')\n",
    "\n"
   ]
  },
  {
   "cell_type": "code",
   "execution_count": 6,
   "id": "f586e775-01ab-472d-af7f-18a000b39c97",
   "metadata": {},
   "outputs": [
    {
     "name": "stdout",
     "output_type": "stream",
     "text": [
      "    pickup_datetime pickup_geohash dropoff_geohash\n",
      "0  2015-01-15-19-00     dr5ru4r695      dr5rudmjw9\n",
      "1  2015-01-10-20-30     dr5rsj9eut      dr5ru5yzj0\n",
      "2  2015-01-10-20-30     dr72hgvt3n      dr72jpvgmw\n",
      "3  2015-01-10-20-30     dr5regsppm      dr5reuzen5\n",
      "4  2015-01-10-20-30     dr5rusxf6e      dr5rgbzz1s\n",
      "5  2015-01-10-20-30     dr5ryywq43      dr5ru7u3dq\n",
      "6  2015-01-10-20-30     dr5rsmzn0w      dr5ru60rf6\n",
      "7  2015-01-10-20-30     dr5rsp2vsf      dr5rsnn2p3\n",
      "8  2015-01-10-20-30     dr5x1p0fd3      dr5ruk5bkn\n",
      "9  2015-01-10-20-30     dr5rumt6db      dr5rukj0e0\n"
     ]
    }
   ],
   "source": [
    "# read the preprocessed data\n",
    "file_name = 'taxi_data_2015_01_preprocessed.parquet.gzip'\n",
    "file_path = DATA_FOLDER.joinpath(file_name)\n",
    "\n",
    "taxi_data_2015_01 = pd.read_parquet(file_path)\n",
    "\n",
    "print(taxi_data_2015_01.head(3))\n"
   ]
  },
  {
   "cell_type": "code",
   "execution_count": null,
   "id": "0bcb24af-6285-4aa7-b0f9-fad2a49a8dfb",
   "metadata": {},
   "outputs": [],
   "source": [
    "# plot date time in %Y-%m-%d-%H-%M format!\n",
    "PLOT_DATE_TIME = '2015-01-15-19-00'\n",
    "\n",
    "\n",
    "\n"
   ]
  }
 ],
 "metadata": {
  "kernelspec": {
   "display_name": "Python 3 (ipykernel)",
   "language": "python",
   "name": "python3"
  },
  "language_info": {
   "codemirror_mode": {
    "name": "ipython",
    "version": 3
   },
   "file_extension": ".py",
   "mimetype": "text/x-python",
   "name": "python",
   "nbconvert_exporter": "python",
   "pygments_lexer": "ipython3",
   "version": "3.11.9"
  }
 },
 "nbformat": 4,
 "nbformat_minor": 5
}
